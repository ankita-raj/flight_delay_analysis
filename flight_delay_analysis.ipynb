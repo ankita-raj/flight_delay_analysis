{
 "cells": [
  {
   "cell_type": "code",
   "execution_count": 0,
   "metadata": {
    "application/vnd.databricks.v1+cell": {
     "cellMetadata": {
      "byteLimit": 2048000,
      "rowLimit": 10000
     },
     "inputWidgets": {},
     "nuid": "5ba7ad81-6f93-4436-ba01-b6bb9620a232",
     "showTitle": false,
     "tableResultSettingsMap": {},
     "title": ""
    }
   },
   "outputs": [
    {
     "output_type": "stream",
     "name": "stdout",
     "output_type": "stream",
     "text": [
      "+----+-----+----------+---------+-------+----------+-------+----------+-------------+---------+-------+-----------------+--------------+-------+--------+--------+------+----+--------+------+-------+---------+----------------+--------+------------+------------+--------+-------------+-----------------+------------+------------+\n|Year|Month|DayofMonth|DayOfWeek|DepTime|CRSDepTime|ArrTime|CRSArrTime|UniqueCarrier|FlightNum|TailNum|ActualElapsedTime|CRSElapsedTime|AirTime|ArrDelay|DepDelay|Origin|Dest|Distance|TaxiIn|TaxiOut|Cancelled|CancellationCode|Diverted|CarrierDelay|WeatherDelay|NASDelay|SecurityDelay|LateAircraftDelay|IsArrDelayed|IsDepDelayed|\n+----+-----+----------+---------+-------+----------+-------+----------+-------------+---------+-------+-----------------+--------------+-------+--------+--------+------+----+--------+------+-------+---------+----------------+--------+------------+------------+--------+-------------+-----------------+------------+------------+\n|1987|   10|        14|        3|    741|       730|    912|       849|           PS|     1451|     NA|               91|            79|     NA|      23|      11|   SAN| SFO|     447|    NA|     NA|        0|              NA|       0|          NA|          NA|      NA|           NA|               NA|         YES|         YES|\n|1987|   10|        15|        4|    729|       730|    903|       849|           PS|     1451|     NA|               94|            79|     NA|      14|      -1|   SAN| SFO|     447|    NA|     NA|        0|              NA|       0|          NA|          NA|      NA|           NA|               NA|         YES|          NO|\n|1987|   10|        17|        6|    741|       730|    918|       849|           PS|     1451|     NA|               97|            79|     NA|      29|      11|   SAN| SFO|     447|    NA|     NA|        0|              NA|       0|          NA|          NA|      NA|           NA|               NA|         YES|         YES|\n|1987|   10|        18|        7|    729|       730|    847|       849|           PS|     1451|     NA|               78|            79|     NA|      -2|      -1|   SAN| SFO|     447|    NA|     NA|        0|              NA|       0|          NA|          NA|      NA|           NA|               NA|          NO|          NO|\n|1987|   10|        19|        1|    749|       730|    922|       849|           PS|     1451|     NA|               93|            79|     NA|      33|      19|   SAN| SFO|     447|    NA|     NA|        0|              NA|       0|          NA|          NA|      NA|           NA|               NA|         YES|         YES|\n+----+-----+----------+---------+-------+----------+-------+----------+-------------+---------+-------+-----------------+--------------+-------+--------+--------+------+----+--------+------+-------+---------+----------------+--------+------------+------------+--------+-------------+-----------------+------------+------------+\nonly showing top 5 rows\n\n"
     ]
    }
   ],
   "source": [
    "df = spark.read.csv(\"/databricks-datasets/airlines/part-00000\", header=True, inferSchema = True)\n",
    "df.show(5)"
   ]
  },
  {
   "cell_type": "code",
   "execution_count": 0,
   "metadata": {
    "application/vnd.databricks.v1+cell": {
     "cellMetadata": {
      "byteLimit": 2048000,
      "rowLimit": 10000
     },
     "inputWidgets": {},
     "nuid": "6bca0531-21fa-4249-8b0e-d0ebf453b154",
     "showTitle": false,
     "tableResultSettingsMap": {},
     "title": ""
    }
   },
   "outputs": [
    {
     "output_type": "stream",
     "name": "stdout",
     "output_type": "stream",
     "text": [
      "+----+-----+----------+--------+--------+-------------+------+----+\n|Year|Month|DayOfMonth|DepDelay|ArrDelay|UniqueCarrier|Origin|Dest|\n+----+-----+----------+--------+--------+-------------+------+----+\n|1987|   10|        14|      11|      23|           PS|   SAN| SFO|\n|1987|   10|        15|      -1|      14|           PS|   SAN| SFO|\n|1987|   10|        17|      11|      29|           PS|   SAN| SFO|\n|1987|   10|        18|      -1|      -2|           PS|   SAN| SFO|\n|1987|   10|        19|      19|      33|           PS|   SAN| SFO|\n+----+-----+----------+--------+--------+-------------+------+----+\nonly showing top 5 rows\n\n"
     ]
    }
   ],
   "source": [
    "df_clean = df.select(\"Year\",\"Month\",\"DayOfMonth\",\"DepDelay\",\"ArrDelay\",\"UniqueCarrier\",\"Origin\",\"Dest\")\n",
    "df_clean.show(5)"
   ]
  },
  {
   "cell_type": "code",
   "execution_count": 0,
   "metadata": {
    "application/vnd.databricks.v1+cell": {
     "cellMetadata": {
      "byteLimit": 2048000,
      "rowLimit": 10000
     },
     "inputWidgets": {},
     "nuid": "b9ef6dac-3089-4a87-832f-82f1ee4cde2b",
     "showTitle": false,
     "tableResultSettingsMap": {},
     "title": ""
    }
   },
   "outputs": [
    {
     "output_type": "stream",
     "name": "stdout",
     "output_type": "stream",
     "text": [
      "+----+-----+----------+--------+--------+-------------+------+----+\n|Year|Month|DayOfMonth|DepDelay|ArrDelay|UniqueCarrier|Origin|Dest|\n+----+-----+----------+--------+--------+-------------+------+----+\n|1987|   10|        14|      11|      23|           PS|   SAN| SFO|\n|1987|   10|        15|      -1|      14|           PS|   SAN| SFO|\n|1987|   10|        17|      11|      29|           PS|   SAN| SFO|\n|1987|   10|        18|      -1|      -2|           PS|   SAN| SFO|\n|1987|   10|        19|      19|      33|           PS|   SAN| SFO|\n+----+-----+----------+--------+--------+-------------+------+----+\nonly showing top 5 rows\n\n"
     ]
    }
   ],
   "source": [
    "df_filtered = df_clean.na.drop()\n",
    "df_filtered.show(5)"
   ]
  },
  {
   "cell_type": "code",
   "execution_count": 0,
   "metadata": {
    "application/vnd.databricks.v1+cell": {
     "cellMetadata": {
      "byteLimit": 2048000,
      "rowLimit": 10000
     },
     "inputWidgets": {},
     "nuid": "40924243-2f87-458d-ab32-d7c1e64b8723",
     "showTitle": false,
     "tableResultSettingsMap": {},
     "title": ""
    }
   },
   "outputs": [
    {
     "output_type": "stream",
     "name": "stdout",
     "output_type": "stream",
     "text": [
      "+-------------+-------------------+------------------+\n|UniqueCarrier|Avg_Departure_Delay| Avg_Arrival_Delay|\n+-------------+-------------------+------------------+\n|           UA|  5.308353662164574| 5.373086861458955|\n|           PS| 11.058201824236281|15.110103391982587|\n|           TW| 5.0309916451598795|5.8652493150684935|\n|           EA|    6.2097255310204| 6.273365661280911|\n|           NW|  4.870520750059606| 8.597263516845858|\n|           HP|  5.501129505377794| 9.314709159042572|\n|           WN|  7.236082572752903| 4.598222392125006|\n|           PI|  6.174465497375496| 7.718183711726724|\n|           DL|  4.658810969294262|  8.16234956563322|\n|           CO|  4.922316185106883|2.0199623352165723|\n|       PA (1)| 4.3475925751436915| 7.402154398563734|\n|           AA|  4.267938644377226| 2.437455158559334|\n|           US|  5.715378159097267| 7.916648510691275|\n|           AS| 7.0120103725945135|10.100887372013652|\n+-------------+-------------------+------------------+\n\n"
     ]
    }
   ],
   "source": [
    "from pyspark.sql.functions import avg\n",
    "\n",
    "avg_delays = df_filtered.groupBy(\"UniqueCarrier\").agg(\n",
    "    avg(\"DepDelay\").alias(\"Avg_Departure_Delay\"),\n",
    "    avg(\"ArrDelay\").alias(\"Avg_Arrival_Delay\")\n",
    ")\n",
    "\n",
    "avg_delays.show()\n"
   ]
  },
  {
   "cell_type": "code",
   "execution_count": 0,
   "metadata": {
    "application/vnd.databricks.v1+cell": {
     "cellMetadata": {
      "byteLimit": 2048000,
      "rowLimit": 10000
     },
     "inputWidgets": {},
     "nuid": "387a6eb9-33cf-4796-8a89-4957c5f14389",
     "showTitle": false,
     "tableResultSettingsMap": {},
     "title": ""
    }
   },
   "outputs": [
    {
     "output_type": "stream",
     "name": "stdout",
     "output_type": "stream",
     "text": [
      "+-------------+-------------------+------------------+\n|UniqueCarrier|Avg_Departure_Delay| Avg_Arrival_Delay|\n+-------------+-------------------+------------------+\n|           PS| 11.058201824236281|15.110103391982587|\n|           AS| 7.0120103725945135|10.100887372013652|\n|           HP|  5.501129505377794| 9.314709159042572|\n|           NW|  4.870520750059606| 8.597263516845858|\n|           DL|  4.658810969294262|  8.16234956563322|\n|           US|  5.715378159097267| 7.916648510691275|\n|           PI|  6.174465497375496| 7.718183711726724|\n|       PA (1)| 4.3475925751436915| 7.402154398563734|\n|           EA|    6.2097255310204| 6.273365661280911|\n|           TW| 5.0309916451598795|5.8652493150684935|\n|           UA|  5.308353662164574| 5.373086861458955|\n|           WN|  7.236082572752903| 4.598222392125006|\n|           AA|  4.267938644377226| 2.437455158559334|\n|           CO|  4.922316185106883|2.0199623352165723|\n+-------------+-------------------+------------------+\n\n"
     ]
    }
   ],
   "source": [
    "avg_delays.orderBy(\n",
    "    \"Avg_Arrival_Delay\", ascending=False).show()"
   ]
  },
  {
   "cell_type": "code",
   "execution_count": 0,
   "metadata": {
    "application/vnd.databricks.v1+cell": {
     "cellMetadata": {
      "byteLimit": 2048000,
      "rowLimit": 10000
     },
     "inputWidgets": {},
     "nuid": "0d27b2e3-ba40-4951-9394-1061b9145d1d",
     "showTitle": false,
     "tableResultSettingsMap": {},
     "title": ""
    }
   },
   "outputs": [],
   "source": [
    "avg_delays.write.mode(\"overwrite\").csv(\"/tmp/airline_delay_summary\")"
   ]
  },
  {
   "cell_type": "code",
   "execution_count": 0,
   "metadata": {
    "application/vnd.databricks.v1+cell": {
     "cellMetadata": {
      "byteLimit": 2048000,
      "rowLimit": 10000
     },
     "inputWidgets": {},
     "nuid": "ba588054-81f2-419b-98c5-b86b1d07274a",
     "showTitle": false,
     "tableResultSettingsMap": {},
     "title": ""
    }
   },
   "outputs": [
    {
     "output_type": "display_data",
     "data": {
      "text/html": [
       "<style scoped>\n",
       "  .ansiout {\n",
       "    display: block;\n",
       "    unicode-bidi: embed;\n",
       "    white-space: pre-wrap;\n",
       "    word-wrap: break-word;\n",
       "    word-break: break-all;\n",
       "    font-family: \"Menlo\", \"Monaco\", \"Consolas\", \"Ubuntu Mono\", \"Source Code Pro\", monospace;\n",
       "    font-size: 13px;\n",
       "    color: #555;\n",
       "    margin-left: 4px;\n",
       "    line-height: 19px;\n",
       "  }\n",
       "</style>"
      ]
     },
     "metadata": {
      "application/vnd.databricks.v1+output": {
       "arguments": {},
       "data": "",
       "errorSummary": "Cancelled",
       "errorTraceType": "html",
       "metadata": {},
       "type": "ipynbError"
      }
     },
     "output_type": "display_data"
    }
   ],
   "source": [
    "pandas_df = avg_delays.toPandas()"
   ]
  },
  {
   "cell_type": "code",
   "execution_count": 0,
   "metadata": {
    "application/vnd.databricks.v1+cell": {
     "cellMetadata": {
      "byteLimit": 2048000,
      "rowLimit": 10000
     },
     "inputWidgets": {},
     "nuid": "6f981768-4e61-4fd2-b2e7-73cc03aee301",
     "showTitle": false,
     "tableResultSettingsMap": {},
     "title": ""
    }
   },
   "outputs": [
    {
     "output_type": "display_data",
     "data": {
      "image/png": "[encoded data removed]"
     },
     "metadata": {
      "application/vnd.databricks.v1+output": {
       "addedWidgets": {},
       "arguments": {},
       "data": "data:image/png;base64,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\n",
       "datasetInfos": [],
       "metadata": {},
       "removedWidgets": [],
       "type": "image"
      }
     },
     "output_type": "display_data"
    }
   ],
   "source": [
    "import matplotlib.pyplot as plt\n",
    "\n",
    "# Sort values\n",
    "pandas_df_sorted = pandas_df.sort_values(\"Avg_Arrival_Delay\", ascending=False)\n",
    "\n",
    "# Bar plot\n",
    "plt.figure(figsize=(10,5))\n",
    "plt.bar(pandas_df_sorted[\"UniqueCarrier\"], pandas_df_sorted[\"Avg_Arrival_Delay\"], color='skyblue')\n",
    "plt.xlabel(\"Airline Carrier\")\n",
    "plt.ylabel(\"Average Arrival Delay (minutes)\")\n",
    "plt.title(\"Average Arrival Delay by Carrier\")\n",
    "plt.xticks(rotation=90)\n",
    "plt.grid(False)\n",
    "plt.show()\n"
   ]
  }
 ],
 "metadata": {
  "application/vnd.databricks.v1+notebook": {
   "computePreferences": null,
   "dashboards": [],
   "environmentMetadata": {
    "base_environment": "",
    "environment_version": "1"
   },
   "inputWidgetPreferences": null,
   "language": "python",
   "notebookMetadata": {
    "pythonIndentUnit": 4
   },
   "notebookName": "flight_delay_analysis",
   "widgets": {}
  }
 },
 "nbformat": 4,
 "nbformat_minor": 0
}